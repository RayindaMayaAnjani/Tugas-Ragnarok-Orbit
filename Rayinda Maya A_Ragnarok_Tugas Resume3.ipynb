{
 "cells": [
  {
   "cell_type": "markdown",
   "metadata": {},
   "source": [
    "<h2><b> Resume </b></h2>"
   ]
  },
  {
   "cell_type": "markdown",
   "metadata": {},
   "source": [
    "Speech Recognition\n",
    "• Speech Recognition atau yang biasa dikenal dengan Automatic Speech Recognition (ASR) merupakan suatu pengembangan teknik dan \n",
    "sistem yang memungkinkan komputer untuk menerima masukan berupa kata yang diucapkan.\n",
    "• Teknologi ini memungkinkan suatu perangkat untuk mengenali dan memahami kata-kata yang diucapkan dengan cara mengubah sinyal\n",
    "analog berupa gelombang suara menjadi sinyal digital dan mencocokkan sinyal digital tersebut dengan suatu pola tertentu yang \n",
    "tersimpan dalam suatu perangkat.\n",
    "\n",
    "Perbedaan Speech Recognition vs Voice Recognition\n",
    "• Pengenalan ucapan (Speech Recognition) digunakan untuk mengidentifikasi kata-kata dalam bahasa lisan atau percakapan lisan.\n",
    "• Pengenalan suara (Voice Recognition) adalah teknologi untuk mengidentifikasi suara individu.\n",
    "\n",
    "Beberapa frameworks open-source untuk Automatic Speech Recognition\n",
    "• CMU Sphinx - https://cmusphinx.github.io/\n",
    "• Kaldi - https://github.com/kaldi-asr/kaldi\n",
    "• ESPnet - https://github.com/espnet/espnet\n",
    "    \n",
    "Model dalam Speech Recognition\n",
    "Model Akustik : Ini mewakili hubungan antara unit linguistik ucapan (phonem) dan sinyal audio.\n",
    "Model Bahasa : Pada model ini suara dicocokkan dengan urutan kata untuk membedakan antara kata-kata yang mirip.\n",
    "    \n",
    "Poin Penting pada SR\n",
    "Algoritma pada Speech Recognition harus mampu memproses dan mengubah audio menjadi teks. Adapun poin penting yang perlu \n",
    "diperhatikan adalah sebagai berikut :\n",
    "• Gaya bicara\n",
    "• Bahasa\n",
    "• Dialek & Aksen\n",
    "• Perbedaan frasa\n",
    "\n",
    "Feature Extraction\n",
    "Mel Frequency Cepstral Coefficient (MFCC)\n",
    "Pre Emphasis Framing dan -> Windowing FFT -> Mel Frequency -> Wrapping -> DCT -> Cepstral Liftering\n",
    "\n",
    "\n",
    "\n",
    "Markov Model\n",
    "Markov Chain (Markov Model) ditemukan oleh Andrey Markov. Ketika diberi inputan pada keadaan saat ini, maka keadaan yang akan \n",
    "datang dapat diprediksi\n",
    "\n",
    "Hidden Markov Model\n",
    "Markov Model tetapi memiliki kondisi yang tidak dapat diamati atau observasi, oleh sebab itu disebut hidden. \n",
    "Walaupun keadaan atau kondisi yang tidak dapat diamati, HMM memiliki output yang dapat terlihat"
   ]
  },
  {
   "cell_type": "code",
   "execution_count": null,
   "metadata": {},
   "outputs": [],
   "source": []
  }
 ],
 "metadata": {
  "kernelspec": {
   "display_name": "Python 3",
   "language": "python",
   "name": "python3"
  },
  "language_info": {
   "codemirror_mode": {
    "name": "ipython",
    "version": 3
   },
   "file_extension": ".py",
   "mimetype": "text/x-python",
   "name": "python",
   "nbconvert_exporter": "python",
   "pygments_lexer": "ipython3",
   "version": "3.6.5"
  }
 },
 "nbformat": 4,
 "nbformat_minor": 2
}
